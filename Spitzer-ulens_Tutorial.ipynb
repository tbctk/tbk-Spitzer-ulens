{
 "cells": [
  {
   "cell_type": "markdown",
   "id": "4d651ff0-1cee-4671-9ada-e19653ca0c8d",
   "metadata": {},
   "source": [
    "# Spitzer-ulens Tutorial Notebook\n",
    "This notebook aims to demonstrate the usage of the main functions in the Spitzer-ulens package."
   ]
  },
  {
   "cell_type": "code",
   "execution_count": 1,
   "id": "7a9cc734-d1e8-43bc-b424-7c4803b386bc",
   "metadata": {},
   "outputs": [],
   "source": [
    "import numpy as np\n",
    "from matplotlib import pyplot as plt\n",
    "from matplotlib import patches\n",
    "%matplotlib inline\n",
    "\n",
    "import pickle\n",
    "import emcee\n",
    "import time as ti\n",
    "from tqdm import tqdm\n",
    "import os\n",
    "from multiprocessing import Pool\n",
    "import corner\n",
    "\n",
    "from Spitzer_ulens import data_config\n",
    "from Spitzer_ulens.MuLensEvent import MuLensEvent\n",
    "from Spitzer_ulens import models\n",
    "from Spitzer_ulens import PLD\n",
    "from Spitzer_ulens import plot\n",
    "from Spitzer_ulens import mcmc"
   ]
  },
  {
   "cell_type": "markdown",
   "id": "facc7b47-4311-4238-8aa6-674b95158d45",
   "metadata": {},
   "source": [
    "## Defining Variables\n",
    "These can be modified for use with different events and different models."
   ]
  },
  {
   "cell_type": "code",
   "execution_count": 2,
   "id": "49a2d149-43f9-4f03-b7a4-fd1324a8cfc7",
   "metadata": {},
   "outputs": [],
   "source": [
    "EVENT_NAME = 'ob171140'\n",
    "TELESCOPE = 'spitzer'\n",
    "EVENT_COORDS = ('17:47:31.93','-24:31:21.6')\n",
    "#MODELFUNC = models.single_lens\n",
    "MODELFUNC = models.binary_lens_all\n",
    "MODELNAME = 'binary_lens'"
   ]
  },
  {
   "cell_type": "markdown",
   "id": "2c671314-3673-4737-ad76-0ff019837de9",
   "metadata": {},
   "source": [
    "## Configuration and Preparation"
   ]
  },
  {
   "cell_type": "code",
   "execution_count": 3,
   "id": "7f637676-1b26-4809-9936-2de942b1542a",
   "metadata": {},
   "outputs": [],
   "source": [
    "load_pkl_from_file = True\n",
    "load_centroid_from_file = True\n",
    "save_event = True\n",
    "\n",
    "if load_pkl_from_file and load_centroid_from_file:\n",
    "    # Load event object from pre-existing pickle file\n",
    "    filename = 'data/'+EVENT_NAME+'/PLD_input/'+EVENT_NAME+'_'+TELESCOPE+'.pkl'\n",
    "    with open(filename, 'rb') as input:\n",
    "        event = pickle.load(input)\n",
    "else:\n",
    "    if load_centroid_from_file:\n",
    "        # Load centroid data from pre-existing centroid.out file\n",
    "        AOR,TIMES,XDATA,YDATA,CBCD,CBUNC = data_config.load_centroid_data(EVENT_NAME,TELESCOPE)\n",
    "    else:\n",
    "        # All data should be downloaded into src_dir directory\n",
    "        src_dir = 'data'\n",
    "        # Configure directory structure for use with data_config functions\n",
    "        data_config.directory_config(EVENT_NAME,TELESCOPE,src_dir)\n",
    "        # Retrieve raw centroid data\n",
    "        AOR,TIMES,XDATA,YDATA,CBCD,CBUNC = data_config.get_centroid_data(EVENT_NAME,TELESCOPE,EVENT_COORDS,timerange=(0,8000))\n",
    "    # Obtain centroid pixel coordinates\n",
    "    XCENT,YCENT = data_config.target_central_px(XDATA,YDATA)\n",
    "    # Obtain 5-by-5 images and image errors\n",
    "    IMG,IMG_E = data_config.target_image_square(EVENT_NAME,XCENT,YCENT,CBCD,CBUNC)\n",
    "    # Create and save event object\n",
    "    event = MuLensEvent(EVENT_NAME,TELESCOPE,AOR,TIMES,XDATA,YDATA,IMG,IMG_E)\n",
    "    event.save()"
   ]
  },
  {
   "cell_type": "code",
   "execution_count": 4,
   "id": "07e2a773-08ab-47d1-b811-dd60226468ca",
   "metadata": {},
   "outputs": [
    {
     "data": {
      "image/png": "[encoded data removed]",
      "text/plain": [
       "<Figure size 432x288 with 2 Axes>"
      ]
     },
     "metadata": {
      "needs_background": "light"
     },
     "output_type": "display_data"
    }
   ],
   "source": [
    "# Plotting an example of a 5-by-5 image\n",
    "fig,ax = plt.subplots()\n",
    "im = ax.imshow(event.IMG[1][40])\n",
    "fig.colorbar(im)\n",
    "plt.show()"
   ]
  },
  {
   "cell_type": "markdown",
   "id": "f66fa53c-1fad-48ae-96da-867357d06507",
   "metadata": {},
   "source": [
    "## Least-Squares Fit"
   ]
  },
  {
   "cell_type": "code",
   "execution_count": 5,
   "id": "6e06bd11-1ec3-4197-adda-0c904fa2b262",
   "metadata": {},
   "outputs": [
    {
     "data": {
      "text/plain": [
       "Text(0, 0.5, 'Flux (MJy/sr)')"
      ]
     },
     "execution_count": 5,
     "metadata": {},
     "output_type": "execute_result"
    },
    {
     "data": {
      "image/png": "[encoded data removed]",
      "text/plain": [
       "<Figure size 432x288 with 1 Axes>"
      ]
     },
     "metadata": {
      "needs_background": "light"
     },
     "output_type": "display_data"
    }
   ],
   "source": [
    "# Get raw photometry, error, and binned error\n",
    "PTOT,PTOT_E,E_BIN = event.aperture_photometry()\n",
    "# Flatten in chronological order for plotting purposes\n",
    "time,ptot = event.chrono_flatten(PTOT)\n",
    "# Plot our raw data so that we can make some parameter estimates.\n",
    "plt.plot(time,ptot,'.')\n",
    "plt.xlabel('Time (JD)')\n",
    "plt.ylabel('Flux (MJy/sr)')"
   ]
  },
  {
   "cell_type": "code",
   "execution_count": 6,
   "id": "ebacb837-00cc-447a-b752-04e51952b62b",
   "metadata": {},
   "outputs": [],
   "source": [
    "# Make an initial guess for model parameters, which will be used as starting point for LM fit\n",
    "\n",
    "# Single lens model:\n",
    "#fb,t0,fs,tE = 84.86,7940.195,19.707,14.58\n",
    "#p0 = np.array([fb,t0,fs,tE]) #for single lens: fb, t0, fs, tE\n",
    "#bounds = ([0,7935,0,0],[140,7945,np.inf,np.inf])\n",
    "\n",
    "# Binary lens model:\n",
    "s     = 0.815       # separation between the two lenses (in Einstein radius of total mass)\n",
    "q     = 0.0099      # mass ratio: Right-lens' mass divided by left-lens' mass\n",
    "rho   = 1e-6        # source radius in Einstein radii of the total mass.\n",
    "alpha = np.pi-2.561 # angle between lens axis and source trajectory (rad) VBBL_alpha = PI-OSU_alpha\n",
    "tE    = 14.58       # einstein radius crossing time\n",
    "t0    = 7940.195    # time of peak magnification\n",
    "u0    = 0.1343      # impact parameter\n",
    "fb    = 76          # baseline flux\n",
    "fs    = 21          # source flux\n",
    "p0 = np.asarray([s, q, rho, alpha, tE, t0, u0, fb, fs])\n",
    "# Estimate some bounds on these parameters. These do not have to be tight constraints.\n",
    "bounds = ([0,0,0,-np.inf,0,7920,-np.inf,0,0],[np.inf,np.inf,np.inf,np.inf,np.inf,7960,np.inf,np.inf,np.inf])"
   ]
  },
  {
   "cell_type": "code",
   "execution_count": 7,
   "id": "9d8d9809-b086-4eac-beb0-5512f99b314e",
   "metadata": {},
   "outputs": [
    {
     "data": {
      "text/plain": [
       "<matplotlib.lines.Line2D at 0x1250807f0>"
      ]
     },
     "execution_count": 7,
     "metadata": {},
     "output_type": "execute_result"
    },
    {
     "data": {
      "image/png": "[encoded data removed]",
      "text/plain": [
       "<Figure size 576x288 with 1 Axes>"
      ]
     },
     "metadata": {
      "needs_background": "light"
     },
     "output_type": "display_data"
    },
    {
     "data": {
      "image/png": "[encoded data removed]",
      "text/plain": [
       "<Figure size 432x288 with 1 Axes>"
      ]
     },
     "metadata": {
      "needs_background": "light"
     },
     "output_type": "display_data"
    }
   ],
   "source": [
    "# Obtain raw photometry and errors\n",
    "PTOT,PTOT_E,E_BIN = event.aperture_photometry()\n",
    "# Perform LM fit and plot resulting curve\n",
    "popt,perr,bestfit,resi_pre,timeplot,lcoptim = event.modelfit(MODELFUNC,p0,PTOT,makeplots=True,bounds=bounds)\n",
    "plt.figure()\n",
    "plt.plot(event.chrono_flatten()[0],resi_pre,'.')\n",
    "plt.axhline(color='C1')"
   ]
  },
  {
   "cell_type": "markdown",
   "id": "81663ea7-284b-4039-8d40-c68546db44da",
   "metadata": {},
   "source": [
    "## Solving PLD Coefficients Analytically"
   ]
  },
  {
   "cell_type": "code",
   "execution_count": 8,
   "id": "d44c8f1d-f454-4587-9e1b-b9c7375eb60f",
   "metadata": {
    "tags": []
   },
   "outputs": [
    {
     "name": "stdout",
     "output_type": "stream",
     "text": [
      "RMS before  :  6.61862912869253\n",
      "RMS after  :  0.9811180084653887\n"
     ]
    },
    {
     "data": {
      "text/plain": [
       "(<Figure size 576x648 with 3 Axes>,\n",
       " array([<AxesSubplot:ylabel='Photometry (MJy/str)'>,\n",
       "        <AxesSubplot:ylabel='Photometry (MJy/str)'>,\n",
       "        <AxesSubplot:xlabel='Time (JD)', ylabel='Residuals (MJy/str)'>],\n",
       "       dtype=object))"
      ]
     },
     "execution_count": 8,
     "metadata": {},
     "output_type": "execute_result"
    },
    {
     "data": {
      "image/png": "[encoded data removed]",
      "text/plain": [
       "<Figure size 576x648 with 3 Axes>"
      ]
     },
     "metadata": {
      "needs_background": "light"
     },
     "output_type": "display_data"
    }
   ],
   "source": [
    "# Get fractional flux\n",
    "PNORM = event.get_PNORM()\n",
    "# Solve for PLD coefficients analytically\n",
    "Y, Astro, Ps, A, C, E, X = PLD.analytic_solution(event.TIMES, PTOT, PTOT_E, PNORM, popt, MODELFUNC)\n",
    "# Get detector model and divide it out to get new best-fit\n",
    "FIT, SYS, CORR, RESI = PLD.get_bestfit(A, Ps, X, PTOT, Astro)\n",
    "# Flatten results for plotting\n",
    "time,ptot,ptot_e,corr,resi,fit,sys = event.chrono_flatten(PTOT,PTOT_E,CORR,RESI,FIT,SYS)\n",
    "# Compute RMS error before and after\n",
    "RMS_before, RMS_after = PLD.get_RMS(resi_pre,label='RMS before',visual=True), PLD.get_RMS(resi,label='RMS after',visual=True)\n",
    "# Plot corrected data, corrected model, and residuals\n",
    "plot.plot_analytic_solution(time, ptot, fit, corr, resi, timeplot, lcoptim)"
   ]
  },
  {
   "cell_type": "markdown",
   "id": "0bd6c83f-4564-4ff8-982c-8ac3d9eefdf7",
   "metadata": {},
   "source": [
    "# MCMC Fit for PLD Parameters"
   ]
  },
  {
   "cell_type": "code",
   "execution_count": 9,
   "id": "355b22c3-f46c-4a62-974b-01e0890c7a00",
   "metadata": {},
   "outputs": [],
   "source": [
    "load_chain_from_file = True\n",
    "\n",
    "if load_chain_from_file:\n",
    "    # Load chains from files\n",
    "    path = os.path.join('data',EVENT_NAME,'mega_MCMC',MODELNAME)\n",
    "    pos_chain = np.load(path+'/samplerchain.npy')\n",
    "    lnprob_chain = np.load(path+'/samplerlnpro.npy')\n",
    "    pos_final = np.load(path+'/samplerposit.npy')\n",
    "    pld_coeff_chain = np.load(path+'/PLD_chain.npy')\n",
    "else:\n",
    "    # Create wrapper object for PLD coefficient chain to make it mutable \n",
    "    PLD_chain = mcmc.PLDCoeffsChain(np.empty(np.size(X)))\n",
    "    # generate the MCMC sampler\n",
    "    sampler = mcmc.get_MCMC_sampler(popt,MODELFUNC,event.TIMES,PTOT,PTOT_E,E_BIN,PNORM,PLD_chain,pool=Pool(),bounds=bounds)\n",
    "    # Initialize the initial parameter positions for each walker by adding a random offset\n",
    "    pos0 = [popt*(1+1e-5*np.random.randn(sampler.ndim))+1e-5*np.abs(np.random.randn(sampler.ndim)) for i in range(sampler.nwalkers)]\n",
    "    # Run burn-in\n",
    "    pos1,_,_ = mcmc.run_mcmc(sampler,pos0,300,label='burn-in')\n",
    "    sampler.reset()\n",
    "    # Run second burn-in\n",
    "    pos2,_,_ = mcmc.run_mcmc(sampler,pos1,300,label='burn-in')\n",
    "    sampler.reset()\n",
    "    # Run production\n",
    "    pos_final,_,_ = mcmc.run_mcmc(sampler,pos2,1000,label='production')\n",
    "    # Save results\n",
    "    pos_chain = sampler.chain\n",
    "    pld_coeff_chain = PLD_chain.chain\n",
    "    lnprob_chain = sampler.lnprobability\n",
    "    mcmc.save_results(EVENT_NAME,pos_chain,pos_final,lnprob_chain,pld_coeff_chain,folder=MODELNAME)"
   ]
  },
  {
   "cell_type": "code",
   "execution_count": 10,
   "id": "7bbc27e7-8502-48f6-9993-bdd074ce4b54",
   "metadata": {},
   "outputs": [
    {
     "ename": "NameError",
     "evalue": "name 'ptot' is not defined",
     "output_type": "error",
     "traceback": [
      "\u001b[0;31m---------------------------------------------------------------------------\u001b[0m",
      "\u001b[0;31mNameError\u001b[0m                                 Traceback (most recent call last)",
      "Input \u001b[0;32mIn [10]\u001b[0m, in \u001b[0;36m<module>\u001b[0;34m\u001b[0m\n\u001b[1;32m      1\u001b[0m popt_mcmc,pmax,std_hi,std_lo \u001b[38;5;241m=\u001b[39m mcmc\u001b[38;5;241m.\u001b[39mget_MCMC_results(pos_chain,lnprob_chain)\n\u001b[0;32m----> 2\u001b[0m bic \u001b[38;5;241m=\u001b[39m \u001b[43mmcmc\u001b[49m\u001b[38;5;241;43m.\u001b[39;49m\u001b[43mget_BIC\u001b[49m\u001b[43m(\u001b[49m\u001b[43mpopt_mcmc\u001b[49m\u001b[43m,\u001b[49m\u001b[43m \u001b[49m\u001b[43mMODELFUNC\u001b[49m\u001b[43m,\u001b[49m\u001b[43m \u001b[49m\u001b[43mevent\u001b[49m\u001b[38;5;241;43m.\u001b[39;49m\u001b[43mTIMES\u001b[49m\u001b[43m,\u001b[49m\u001b[43m \u001b[49m\u001b[43mPTOT\u001b[49m\u001b[43m,\u001b[49m\u001b[43m \u001b[49m\u001b[43mPTOT_E\u001b[49m\u001b[43m,\u001b[49m\u001b[43m \u001b[49m\u001b[43mE_BIN\u001b[49m\u001b[43m,\u001b[49m\u001b[43m \u001b[49m\u001b[43mPNORM\u001b[49m\u001b[43m,\u001b[49m\u001b[43m \u001b[49m\u001b[43mX\u001b[49m\u001b[43m)\u001b[49m\n\u001b[1;32m      3\u001b[0m bic_single \u001b[38;5;241m=\u001b[39m \u001b[38;5;241m2030.5618472356946\u001b[39m\n\u001b[1;32m      4\u001b[0m \u001b[38;5;28mprint\u001b[39m(bic)\n",
      "File \u001b[0;32m~/tbk-Spitzer-ulens/Spitzer_ulens/mcmc.py:179\u001b[0m, in \u001b[0;36mget_BIC\u001b[0;34m(popt_mcmc, MODELFUNC, TIMES, PTOT, PTOT_E, E_BIN, PNORM, X)\u001b[0m\n\u001b[1;32m    177\u001b[0m dudchain \u001b[38;5;241m=\u001b[39m PLDCoeffsChain(np\u001b[38;5;241m.\u001b[39mzeros(np\u001b[38;5;241m.\u001b[39msize(X)))\n\u001b[1;32m    178\u001b[0m ll \u001b[38;5;241m=\u001b[39m lnlike(popt_mcmc, MODELFUNC, TIMES, PTOT, PTOT_E, E_BIN, PNORM, dudchain)\n\u001b[0;32m--> 179\u001b[0m \u001b[38;5;28;01mreturn\u001b[39;00m popt_mcmc\u001b[38;5;241m.\u001b[39msize\u001b[38;5;241m*\u001b[39mnp\u001b[38;5;241m.\u001b[39mlog(\u001b[43mptot\u001b[49m\u001b[38;5;241m.\u001b[39msize)\u001b[38;5;241m-\u001b[39mll\n",
      "\u001b[0;31mNameError\u001b[0m: name 'ptot' is not defined"
     ]
    }
   ],
   "source": [
    "popt_mcmc,pmax,std_hi,std_lo = mcmc.get_MCMC_results(pos_chain,lnprob_chain)\n",
    "bic = mcmc.get_BIC(popt_mcmc, MODELFUNC, event.TIMES, PTOT, PTOT_E, E_BIN, PNORM, X)\n",
    "bic_single = 2030.5618472356946\n",
    "print(bic)\n",
    "print(bic_single)\n",
    "print(np.exp(-0.5*bic))\n",
    "print(np.exp(-0.5*bic_single))"
   ]
  },
  {
   "cell_type": "markdown",
   "id": "e85228fb-8509-411e-9854-d32bf12a272a",
   "metadata": {},
   "source": [
    "# Beyond this point is outdated"
   ]
  },
  {
   "cell_type": "code",
   "execution_count": null,
   "id": "b082d79e-9f22-49ca-afa4-84f77775b84d",
   "metadata": {
    "tags": []
   },
   "outputs": [],
   "source": [
    "load_chain_from_file = True\n",
    "\n",
    "if load_chain_from_file:\n",
    "    # Load chains from files\n",
    "    path = os.path.join('data',EVENT_NAME,'mega_MCMC')\n",
    "    chain = np.load(path+'/samplerchain.npy')\n",
    "    lnprob = np.load(path+'/samplerlnpro.npy')\n",
    "    posit = np.load(path+'/samplerposit.npy')\n",
    "    PLD_chain = np.load(path+'/PLD_chain.npy')\n",
    "else:\n",
    "    # Create wrapper object for PLD coefficient chain to make it mutable \n",
    "    PLD_chain = mcmc.PLDCoeffsChain(np.empty(np.size(X)))\n",
    "    # generate the MCMC sampler\n",
    "    sampler = mcmc.get_MCMC_sampler(popt,MODELFUNC,event.TIMES,PTOT,PTOT_E,E_BIN,PNORM,PLD_chain,pool=Pool(),bounds=bounds)\n",
    "    # Initialize the initial parameter positions for each walker by adding a random offset\n",
    "    pos0 = [popt*(1+1e-5*np.random.randn(sampler.ndim))+1e-5*np.abs(np.random.randn(sampler.ndim)) for i in range(sampler.nwalkers)]\n",
    "    # Run the MCMC\n",
    "    chain,posit,lnprob = mcmc.run_MCMC(sampler,pos0)\n",
    "    # Retrieve PLD coefficient chain from the wrapper object\n",
    "    PLD_chain = PLD_chain.chain\n",
    "    # Save chains to files\n",
    "    #mcmc.save_chain(EVENT_NAME,chain,posit,lnprob,PLD_chain)"
   ]
  },
  {
   "cell_type": "code",
   "execution_count": null,
   "id": "0e6d58b3-a6dc-4d79-973f-d340dbcc98dc",
   "metadata": {},
   "outputs": [],
   "source": [
    "rerun_mcmc = False\n",
    "if rerun_mcmc:\n",
    "    PLD_chain = mcmc.PLDCoeffsChain(np.empty(np.size(X)))\n",
    "    # generate the MCMC sampler\n",
    "    sampler = mcmc.get_MCMC_sampler(popt_mcmc,MODELFUNC,event.TIMES,PTOT,PTOT_E,E_BIN,PNORM,PLD_chain,pool=Pool(),bounds=bounds)\n",
    "    # Initialize the initial parameter positions for each walker by adding a random offset\n",
    "    pos0 = [popt_mcmc*(1+1e-5*np.random.randn(sampler.ndim))+1e-5*np.abs(np.random.randn(sampler.ndim)) for i in range(sampler.nwalkers)]\n",
    "    # Run the MCMC\n",
    "    chain,posit,lnprob = mcmc.run_MCMC(sampler,pos0,)\n",
    "    # Retrieve PLD coefficient chain from the wrapper object\n",
    "    PLD_chain = PLD_chain.chain\n",
    "    mcmc.save_chain(EVENT_NAME,chain,posit,lnprob,PLD_chain)"
   ]
  },
  {
   "cell_type": "code",
   "execution_count": null,
   "id": "70b22b3c-f998-42d6-9ebc-31beba9b6326",
   "metadata": {},
   "outputs": [],
   "source": [
    "lnprob_av = np.mean(lnprob)\n",
    "popt_mcmc = np.mean(chain,axis=(0,1))\n",
    "print(popt_mcmc.shape)"
   ]
  },
  {
   "cell_type": "code",
   "execution_count": null,
   "id": "03dad3f6-ae67-4d20-b3e3-b23ce9d73dce",
   "metadata": {},
   "outputs": [],
   "source": [
    "# Optimal parameters are the average position of the walkers\n",
    "#popt_mcmc = np.mean(posit,axis=0)\n",
    "# Solve for PLD coefficients analytically\n",
    "Y, Astro, Ps, A, C, E, X = PLD.analytic_solution(event.TIMES, PTOT, PTOT_E, PNORM, popt_mcmc, MODELFUNC)\n",
    "# Get detector model and divide it out to get new best-fit\n",
    "FIT_MCMC, SYS_MCMC, CORR_MCMC, RESI_MCMC = PLD.get_bestfit(A, Ps, X, PTOT, Astro)\n",
    "# Flatten results for plotting\n",
    "time,corr_mcmc,resi_mcmc,fit_mcmc,sys_mcmc = event.chrono_flatten(CORR_MCMC,RESI_MCMC,FIT_MCMC,SYS_MCMC)\n",
    "# Compute RMS error before and after\n",
    "RMS_mcmc = PLD.get_RMS(resi_mcmc,label='RMS after MCMC',visual=True)\n",
    "# Plot corrected data, corrected model, and residuals\n",
    "plot.plot_analytic_solution(time, ptot, fit_mcmc, corr_mcmc, resi_mcmc, timeplot, MODELFUNC(timeplot,*popt_mcmc))"
   ]
  },
  {
   "cell_type": "markdown",
   "id": "3ed0594d-4983-4d48-baa8-f28c9587b40a",
   "metadata": {},
   "source": [
    "# Error Analysis"
   ]
  },
  {
   "cell_type": "code",
   "execution_count": null,
   "id": "d6f12c40-3c65-4c70-b8c0-b8ff3a054512",
   "metadata": {},
   "outputs": [],
   "source": [
    "popt_mcmc,pmax,std_hi,std_lo = mcmc.get_MCMC_results(chain,lnprob)\n",
    "lnlike = mcmc.lnlike(popt_mcmc, MODELFUNC, event.TIMES, PTOT, PTOT_E, E_BIN, PNORM, dudchain)\n",
    "bic = popt_mcmc.size*np.log(ptot.size)-lnlike\n",
    "bic_single = 2030.5618472356946\n",
    "print(bic)\n",
    "print(bic_single)\n",
    "print(np.exp(-0.5*bic))\n",
    "print(np.exp(-0.5*bic_single))"
   ]
  },
  {
   "cell_type": "code",
   "execution_count": null,
   "id": "83448808-8ff9-4cab-9f02-8b10c95573ca",
   "metadata": {},
   "outputs": [],
   "source": [
    "posit = chain.reshape(-1,len(p0))\n",
    "\n",
    "# Get the percentile\n",
    "percs = np.percentile(posit, [16, 50, 84],axis=0)\n",
    "(MCMC_Results) = np.array(list(map(lambda v: (v[1], v[2]-v[1], v[1]-v[0]), zip(*percs))))\n",
    "\n",
    "popt_mcmc = MCMC_Results[:,0]\n",
    "std_hi = MCMC_Results[:,1]\n",
    "std_lo = MCMC_Results[:,2]\n",
    "\n",
    "# Get most probable params\n",
    "probs = lnprob.flatten()\n",
    "p_max = posit[np.argmax(probs)]\n",
    "\n",
    "print(popt_mcmc)\n",
    "print(p_max)\n",
    "print(MCMC_Results)"
   ]
  },
  {
   "cell_type": "markdown",
   "id": "8bf3ad02-54c6-4a39-a53a-279acf790ff9",
   "metadata": {},
   "source": [
    "# Extra Plots"
   ]
  },
  {
   "cell_type": "code",
   "execution_count": null,
   "id": "c3131b25-e3ce-4358-8c56-15f8b0e8d1fe",
   "metadata": {},
   "outputs": [],
   "source": [
    "print(posit.shape)\n",
    "nbins=20\n",
    "i = 2\n",
    "\n",
    "pmin = posit.min(axis=0)\n",
    "pmax = posit.max(axis=0)\n",
    "bins = np.linspace(pmin,pmax,nbins)\n",
    "aa,bb = np.histogram(posit[:,i],bins[:,i])\n",
    "cents = 0.5*(bb[1:]+bb[:-1])\n",
    "\n",
    "fig,ax = plt.subplots(figsize=(5,5))\n",
    "ax.bar(cents,aa,width=bb[1]-bb[0],color='powderblue',edgecolor='black')\n",
    "\n",
    "ax.axvline(popt_mcmc[i],color='C1',label='Mean')\n",
    "ax.axvline(popt_mcmc[i]-std_lo[i],color='C1',ls='--')\n",
    "ax.axvline(popt_mcmc[i]+std_hi[i],color='C1',ls='--')\n",
    "ax.axvline(popt_mcmc[i]-2*std_lo[i],color='C1',ls='--')\n",
    "ax.axvline(popt_mcmc[i]+2*std_hi[i],color='C1',ls='--')\n",
    "ax.text(popt_mcmc[i]+0.0001,24850,'Mean',size='large')\n",
    "ax.text(popt_mcmc[i]-std_lo[i],24900,r'$-\\sigma$',size='x-large')\n",
    "ax.text(popt_mcmc[i]+std_hi[i],24900,r'$+\\sigma$',size='x-large')\n",
    "ax.text(popt_mcmc[i]-2*std_lo[i],24900,r'$-2\\sigma$',size='x-large')\n",
    "ax.text(popt_mcmc[i]+2*std_hi[i],24900,r'$+2\\sigma$',size='x-large')\n",
    "#ax.set_xticks(bb)\n",
    "ax.set_xlabel(r'Angular lens separation $s$, radians',size='xx-large')\n",
    "ax.set_ylabel('Number of samples',size='xx-large')\n",
    "ax.set_title(r'$s = %.4f_{-%.4f}^{+%.4f}$' % (popt_mcmc[i],std_lo[i],std_hi[i]),size='x-large')\n",
    "ax.set_xlim(popt_mcmc[i]-3*std_lo[i],popt_mcmc[i]+3*std_hi[i])\n",
    "plt.tight_layout()\n",
    "plt.savefig('errors.png',dpi=300)"
   ]
  },
  {
   "cell_type": "code",
   "execution_count": null,
   "id": "9a0bccf5-cd64-4832-b8fa-7405b1729fac",
   "metadata": {},
   "outputs": [],
   "source": [
    "s, q, rho, alpha, tE, t0, u0, fb, fs = p0\n",
    "p0_single = np.array([9.20263259e+01, 7.93931983e+03, 1.19630450e+02, 7.66795064e+00])\n",
    "fb_s,t0_s,fs_s,tE_s = p0_single\n",
    "timeplot = np.linspace(t0-tE,t0+tE,1000)\n",
    "fig,ax = plt.subplots(1,2,figsize=(10,3))\n",
    "\n",
    "y1 = models.single_lens(timeplot,*p0_single)\n",
    "y2 = MODELFUNC(timeplot,*p0)\n",
    "\n",
    "w1 = 1.7\n",
    "h1 = 10\n",
    "\n",
    "w2 = 1.7\n",
    "h2 = 12\n",
    "\n",
    "ylens1 = 130\n",
    "ylens2 = 130\n",
    "\n",
    "ax[0].add_patch(patches.Ellipse((t0_s,ylens1),w1,h1,color='darkgreen'))\n",
    "ax[0].text(t0_s-3,ylens1-15,'Single lens',size='large')\n",
    "ax[0].text(t0_s-15,ylens1+30,'Source',size='large')\n",
    "source_ts = np.linspace(t0_s-14,t0_s+14,11)\n",
    "for t in source_ts:\n",
    "    ax[0].add_patch(patches.Ellipse((t,ylens1+20),w1,h1,color='lightgreen',fill=False))\n",
    "    \n",
    "ax[1].add_patch(patches.Ellipse((t0+0.5,ylens2),w2,h2,color='darkorange'))\n",
    "ax[1].add_patch(patches.Ellipse((t0-2.2,ylens2),w2/3,h2/3,color='darkorange'))\n",
    "ax[1].text(t0-4,ylens2-15,'Binary lens',size='large')\n",
    "ax[1].text(t0-15,ylens2+40,'Source',size='large')\n",
    "source_ts = np.linspace(t0-14,t0+14,11)\n",
    "for t in source_ts:\n",
    "    ax[1].add_patch(patches.Ellipse((t,ylens2+30),w2,h2,color='moccasin',fill=False))\n",
    "\n",
    "ax[0].plot(timeplot,y1,color='C2',lw=2,label='Single-lens light curve')\n",
    "ax[1].plot(timeplot,y2,color='C1',lw=2,label='Binary-lens light curve')\n",
    "ax[0].xaxis.set_visible(False)\n",
    "#ax[0].yaxis.set_visible(False)\n",
    "ax[1].xaxis.set_visible(False)\n",
    "ax[1].yaxis.set_visible(False)\n",
    "#ax[0].legend(fontsize=14,loc=8)\n",
    "#ax[1].legend(fontsize=14,loc=8)\n",
    "ax[0].yaxis.set_ticks([])\n",
    "ax[0].set_ylabel('Brightness',size='x-large')\n",
    "ax[0].text(7954,93,'Time',size='x-large')\n",
    "\n",
    "if False:\n",
    "    ax[0].axvline(x=t0_s,ls='--',color='lightgreen')\n",
    "    ax[0].text(t0_s,110,r'$t_0$',fontsize=16)\n",
    "    ax[0].plot([t0_s,t0_s+tE_s],[models.single_lens(t0_s-tE_s,*p0_single),models.single_lens(t0_s+tE_s,*p0_single)],color='lightgreen',ls='--')\n",
    "    ax[0].text(t0_s+1,130,r'$t_E$',fontsize=16)\n",
    "\n",
    "    ax[1].axvline(x=t0,ls='--',color='moccasin')\n",
    "    ax[1].text(t0,110,r'$t_0$',fontsize=16)\n",
    "    ax[1].plot([t0,t0+tE],[MODELFUNC([t0-tE],*p0),MODELFUNC([t0+tE],*p0)],color='moccasin',ls='--')\n",
    "    ax[1].text(t0+1,130,r'$t_E$',fontsize=16)\n",
    "\n",
    "#fig.tight_layout()\n",
    "plt.subplots_adjust(wspace=0)\n",
    "plt.savefig('comparemodels.png',dpi=300)"
   ]
  },
  {
   "cell_type": "code",
   "execution_count": null,
   "id": "34f64a12-c497-4994-8103-ee3c547566fe",
   "metadata": {},
   "outputs": [],
   "source": [
    "dudchain = mcmc.PLDCoeffsChain(np.empty(np.size(X)))\n",
    "lnlike = mcmc.lnlike(popt_mcmc, MODELFUNC, event.TIMES, PTOT, PTOT_E, E_BIN, PNORM, dudchain)\n",
    "\n",
    "bic = popt_mcmc.size*np.log(ptot.size)-lnlike"
   ]
  },
  {
   "cell_type": "code",
   "execution_count": null,
   "id": "5f7257ab-0130-43d5-bf03-d0eed7a90d65",
   "metadata": {},
   "outputs": [],
   "source": [
    "timeplot = np.linspace(time[0],time[-1],1000)\n",
    "\n",
    "corr_single = np.loadtxt('single_corr.txt')\n",
    "popt_single = np.loadtxt('single_pars.txt')\n",
    "\n",
    "print(bic/2030.5618472356946)\n",
    "\n",
    "fig,ax = plt.subplots(figsize=(9,6))\n",
    "ax.plot(timeplot,MODELFUNC(timeplot,*popt_mcmc),color='C1',alpha=0.5,label='Best-fit binary-lens curve')\n",
    "ax.plot(timeplot,models.single_lens(timeplot,*popt_single),color='C2',alpha=0.5,label='Best-fit single-lens curve')\n",
    "ax.plot(time,ptot,'.',color='c',alpha=0.7,label='Raw photometry')\n",
    "ax.plot(time,corr_mcmc,'.',color='C1',alpha=0.5,label='Corrected photometry for binary-lens MCMC fit')\n",
    "ax.plot(time,corr_single,'.',color='C2',alpha=0.5,label='Corrected photometry for single-lens MCMC fit')\n",
    "ax.set_ylim(fb+10,240)\n",
    "ax.legend(fontsize=11)\n",
    "ax.set_xlabel('Time (JD)',size='xx-large')\n",
    "ax.set_ylabel('Photometry (MJy/sr)',size='xx-large')\n",
    "ax.text(7949,180,'Binary-lens RMS: %.2f'%0.6893780883159933,fontsize='xx-large')\n",
    "ax.text(7949,170,'Single-lens RMS: %.2f'%1.5189632473783468,fontsize='xx-large')\n",
    "ax.text(7949,160,'Binary-lens BIC: %.2f'%bic,fontsize='xx-large')\n",
    "ax.text(7949,150,'Single-lens BIC: %.2f'%2030.5618472356946,fontsize='xx-large')\n",
    "plt.savefig('double_single_MCMC_fits.png',dpi=400)"
   ]
  },
  {
   "cell_type": "code",
   "execution_count": null,
   "id": "96db8d0d-d58e-4936-baf5-a9359891d3c9",
   "metadata": {},
   "outputs": [],
   "source": [
    "timeplot = np.linspace(time[0],time[-1],1000)\n",
    "bf = MODELFUNC(time,*popt_mcmc)\n",
    "fig,ax = plt.subplots(figsize=(9,6))\n",
    "ax.axhline(color='C1',alpha=0.7,label='Best-fit binary-lens curve')\n",
    "ax.plot(time,ptot-bf,'.',color='c',alpha=0.5,label='Raw photometry')\n",
    "#ax.plot(time,corr-bf,'.',color='y',alpha=0.5,label='Raw photometry corrected for LM fit')\n",
    "ax.plot(time,corr_mcmc-bf,'.',color='m',alpha=0.5,label='Raw photometry corrected for MCMC fit')\n",
    "ax.legend(fontsize='large')\n",
    "ax.set_xlabel('Time (JD)',size='xx-large')\n",
    "ax.set_ylabel('Residuals (MJy/sr)',size='xx-large')"
   ]
  },
  {
   "cell_type": "code",
   "execution_count": null,
   "id": "fc406e32-f35b-4249-a6da-69e67b0679f5",
   "metadata": {},
   "outputs": [],
   "source": [
    "lnlike_lm = mcmc.lnlike(popt, MODELFUNC, event.TIMES, PTOT, PTOT_E, E_BIN, PNORM, dudchain)\n",
    "bic_lm = popt.size*np.log(ptot.size)-lnlike\n",
    "rms_corr = PLD.get_RMS(corr-bf)\n",
    "rms_pre = PLD.get_RMS(resi_pre)\n",
    "print(bic_lm)\n",
    "\n",
    "timeplot = np.linspace(time[0],time[-1],1000)\n",
    "bf = MODELFUNC(time,*popt)\n",
    "fig,ax = plt.subplots(2,figsize=(8,9))\n",
    "\n",
    "ax[0].plot(timeplot,MODELFUNC(timeplot,*p0),color='C1',alpha=0.4,label='Initital guess for binary-lens curve',ls='--')\n",
    "ax[0].plot(timeplot,MODELFUNC(timeplot,*popt),color='C1',alpha=0.7,label='Least-squares best-fit binary-lens curve')\n",
    "ax[0].plot(time,ptot,'.',color='c',alpha=0.5,label='Raw photometry')\n",
    "ax[0].plot(time,corr,'.',color='m',alpha=0.5,label='Photometry corrected for least-squares fit')\n",
    "ax[0].legend(fontsize='large')\n",
    "ax[0].set_ylabel('Photometry (MJy/sr)',size='xx-large')\n",
    "ax[0].xaxis.set_visible(False)\n",
    "\n",
    "ax[0].text(7943,230,'Raw photometry RMS error: %.2f'%rms_pre,size=16)\n",
    "ax[0].text(7943,210,'Corrected RMS error: %.2f'%rms_corr,size=16)\n",
    "\n",
    "ax[1].axhline(color='C1',alpha=0.7,label='Least-squares best-fit binary-lens curve')\n",
    "ax[1].plot(time,ptot-bf,'.',color='c',alpha=0.5,label='Raw photometry')\n",
    "ax[1].plot(time,corr-bf,'.',color='m',alpha=0.5,label='Photometry corrected for least-squares fit')\n",
    "ax[1].legend(fontsize='large')\n",
    "ax[1].set_xlabel('Time (JD)',size='xx-large')\n",
    "ax[1].set_ylabel('Residuals (MJy/sr)',size='xx-large')\n",
    "\n",
    "fig.tight_layout()\n",
    "plt.subplots_adjust(hspace=0)\n",
    "\n",
    "plt.savefig('lsq_fit.png')"
   ]
  },
  {
   "cell_type": "code",
   "execution_count": null,
   "id": "96847992-e14a-42e5-b668-9242c5eb5076",
   "metadata": {},
   "outputs": [],
   "source": [
    "print(popt_mcmc)"
   ]
  },
  {
   "cell_type": "code",
   "execution_count": null,
   "id": "f02f3515-ba01-4b11-b83b-a5d18fa027cf",
   "metadata": {},
   "outputs": [],
   "source": [
    "_,fit = event.chrono_flatten(FIT)\n",
    "print(fit.shape)\n",
    "plt.plot(time,ptot-fit,'.')\n",
    "#plt.plot(time,ptot,'.')"
   ]
  },
  {
   "cell_type": "code",
   "execution_count": null,
   "id": "bc10efdd-68b9-41c5-836b-6767fa730349",
   "metadata": {},
   "outputs": [],
   "source": [
    "dudchain = mcmc.PLDCoeffsChain(np.empty(np.size(X)))\n",
    "bic = mcmc.lnlike(popt_mcmc, MODELFUNC, event.TIMES, PTOT, PTOT_E, E_BIN, PNORM, dudchain)\n",
    "print(bic)"
   ]
  },
  {
   "cell_type": "code",
   "execution_count": null,
   "id": "bf045dad-2604-40c9-b79d-cc012fbaa1db",
   "metadata": {},
   "outputs": [],
   "source": [
    "np.shape(PTOT/CORR_MCMC)\n",
    "print((PTOT/CORR_MCMC)[0])"
   ]
  },
  {
   "cell_type": "code",
   "execution_count": null,
   "id": "62939dc8-723c-473a-a7fe-43782c07cafa",
   "metadata": {},
   "outputs": [],
   "source": [
    "D = PTOT/CORR_MCMC\n",
    "fig,ax = plt.subplots(figsize=(4,3))\n",
    "colors=['blue','purple','green','cyan','magenta','darkorange']\n",
    "for i in range(len(PTOT)):\n",
    "    ax.plot(event.TIMES[i],D[i],'.',color=colors[i])\n",
    "#ax.set_xlabel('Time (JD)',size='x-large')\n",
    "#ax.set_ylabel('Instrumental Noise',size='x-large')\n",
    "ax.axhline(y=1,color='black',lw=1,ls=(0,(5,5)))\n",
    "ax.xaxis.set_ticks([])\n",
    "ax.set_xlabel('Instrumental Noise',size='xx-large')\n",
    "ax.yaxis.set_visible(False)\n",
    "plt.savefig('instrumental_noise.png')"
   ]
  },
  {
   "cell_type": "code",
   "execution_count": null,
   "id": "0b790daf-4c6e-4c36-90c7-e5d1a151292c",
   "metadata": {},
   "outputs": [],
   "source": [
    "fig,ax = plt.subplots(figsize=(4,3))\n",
    "ax.plot(timeplot,MODELFUNC(timeplot,*p0),color='dodgerblue')\n",
    "#plt.xlabel('Time (JD)',size='x-large')\n",
    "#plt.ylabel('Photometry',size='x-large')\n",
    "ax.xaxis.set_ticks([])\n",
    "ax.set_xlabel('Astrophysical Signal',size='xx-large')\n",
    "ax.yaxis.set_visible(False)\n",
    "plt.savefig('astrophysical_model.png')"
   ]
  },
  {
   "cell_type": "code",
   "execution_count": null,
   "id": "1986e707-3370-4aff-add6-67ad3094a5ae",
   "metadata": {},
   "outputs": [],
   "source": [
    "fig,ax = plt.subplots(figsize=(4,3))\n",
    "for i in range(len(PTOT)):\n",
    "    ax.plot(event.TIMES[i],PTOT[i],'.',color=colors[i])\n",
    "#plt.xlabel('Time (JD)',size='x-large')\n",
    "#plt.ylabel('Photometry',size='x-large')\n",
    "ax.xaxis.set_ticks([])\n",
    "ax.set_xlabel('Raw Photometry',size='xx-large')\n",
    "ax.yaxis.set_visible(False)\n",
    "plt.savefig('raw_photometry.png')"
   ]
  },
  {
   "cell_type": "code",
   "execution_count": null,
   "id": "0b8479ef-a0ef-4ef8-8440-ef6c446fe242",
   "metadata": {},
   "outputs": [],
   "source": [
    "samples = chain.reshape((-1, len(popt_mcmc)))[500:]\n",
    "fancylabels = np.array([r'$s$', r'$q$', r'$\\rho$', r'$alpha$', r'$t_E$', r'$t_0$', r'$u_0$', r'$f_b$', r'$f_s$'])\n",
    "\n",
    "# corner plot\n",
    "fig = corner.corner(samples, labels=fancylabels, quantiles=[0.16, 0.5, 0.84], \n",
    "                    show_titles=True, plot_datapoints=True, \n",
    "                    title_kwargs={\"fontsize\": 12})\n",
    "\n",
    "corner.overplot_lines(fig, popt_mcmc, color=\"C1\", label='Mean parameter position')\n",
    "corner.overplot_points(fig, popt_mcmc[None], marker=\"s\", color=\"C1\")\n",
    "corner.overplot_lines(fig, pmax, color=\"C2\", label='Most likely parameter position')\n",
    "corner.overplot_points(fig, pmax[None], marker=\"s\", color=\"C2\")\n",
    "\n",
    "plt.legend(loc=(-5,7),fontsize=16)\n",
    "\n",
    "#plt.savefig('badcorners.png')"
   ]
  },
  {
   "cell_type": "code",
   "execution_count": null,
   "id": "cd9c7b88-6f2d-49fb-88a0-7334bdd39e47",
   "metadata": {},
   "outputs": [],
   "source": []
  }
 ],
 "metadata": {
  "kernelspec": {
   "display_name": "Python 3 (ipykernel)",
   "language": "python",
   "name": "python3"
  },
  "language_info": {
   "codemirror_mode": {
    "name": "ipython",
    "version": 3
   },
   "file_extension": ".py",
   "mimetype": "text/x-python",
   "name": "python",
   "nbconvert_exporter": "python",
   "pygments_lexer": "ipython3",
   "version": "3.8.9"
  }
 },
 "nbformat": 4,
 "nbformat_minor": 5
}
