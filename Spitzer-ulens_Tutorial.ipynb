{
 "cells": [
  {
   "cell_type": "markdown",
   "id": "4d651ff0-1cee-4671-9ada-e19653ca0c8d",
   "metadata": {},
   "source": [
    "# Spitzer-ulens Tutorial Notebook\n",
    "This notebook aims to demonstrate the usage of the main functions in the Spitzer-ulens package."
   ]
  },
  {
   "cell_type": "code",
   "execution_count": 1,
   "id": "7a9cc734-d1e8-43bc-b424-7c4803b386bc",
   "metadata": {},
   "outputs": [],
   "source": [
    "import numpy as np\n",
    "from matplotlib import pyplot as plt\n",
    "%matplotlib inline\n",
    "\n",
    "import pickle\n",
    "import emcee\n",
    "import time as ti\n",
    "from tqdm import tqdm\n",
    "import os\n",
    "from multiprocessing import Pool\n",
    "\n",
    "from Spitzer_ulens import data_config\n",
    "from Spitzer_ulens.MuLensEvent import MuLensEvent\n",
    "from Spitzer_ulens import models\n",
    "from Spitzer_ulens import PLD\n",
    "from Spitzer_ulens import plot\n",
    "from Spitzer_ulens import mcmc"
   ]
  },
  {
   "cell_type": "markdown",
   "id": "facc7b47-4311-4238-8aa6-674b95158d45",
   "metadata": {},
   "source": [
    "## Defining Variables\n",
    "These can be modified for use with different events and different models."
   ]
  },
  {
   "cell_type": "code",
   "execution_count": 2,
   "id": "49a2d149-43f9-4f03-b7a4-fd1324a8cfc7",
   "metadata": {},
   "outputs": [],
   "source": [
    "EVENT_NAME = 'ob171140'\n",
    "TELESCOPE = 'spitzer'\n",
    "EVENT_COORDS = ('17:47:31.93','-24:31:21.6')\n",
    "#MODELFUNC = models.single_lens\n",
    "MODELFUNC = models.binary_lens_all"
   ]
  },
  {
   "cell_type": "markdown",
   "id": "2c671314-3673-4737-ad76-0ff019837de9",
   "metadata": {},
   "source": [
    "## Configuration and Preparation"
   ]
  },
  {
   "cell_type": "code",
   "execution_count": 3,
   "id": "7f637676-1b26-4809-9936-2de942b1542a",
   "metadata": {},
   "outputs": [],
   "source": [
    "load_pkl_from_file = True\n",
    "load_centroid_from_file = True\n",
    "save_event = True\n",
    "\n",
    "if load_pkl_from_file and load_centroid_from_file:\n",
    "    # Load event object from pre-existing pickle file\n",
    "    filename = 'data/'+EVENT_NAME+'/PLD_input/'+EVENT_NAME+'_'+TELESCOPE+'.pkl'\n",
    "    with open(filename, 'rb') as input:\n",
    "        event = pickle.load(input)\n",
    "else:\n",
    "    if load_centroid_from_file:\n",
    "        # Load centroid data from pre-existing centroid.out file\n",
    "        AOR,TIMES,XDATA,YDATA,CBCD,CBUNC = data_config.load_centroid_data(EVENT_NAME,TELESCOPE)\n",
    "    else:\n",
    "        # All data should be downloaded into src_dir directory\n",
    "        src_dir = 'data'\n",
    "        # Configure directory structure for use with data_config functions\n",
    "        data_config.directory_config(EVENT_NAME,TELESCOPE,src_dir)\n",
    "        # Retrieve raw centroid data\n",
    "        AOR,TIMES,XDATA,YDATA,CBCD,CBUNC = data_config.get_centroid_data(EVENT_NAME,TELESCOPE,EVENT_COORDS,timerange=(0,8000))\n",
    "    # Obtain centroid pixel coordinates\n",
    "    XCENT,YCENT = data_config.target_central_px(XDATA,YDATA)\n",
    "    # Obtain 5-by-5 images and image errors\n",
    "    IMG,IMG_E = data_config.target_image_square(EVENT_NAME,XCENT,YCENT,CBCD,CBUNC)\n",
    "    # Create and save event object\n",
    "    event = MuLensEvent(EVENT_NAME,TELESCOPE,AOR,TIMES,XDATA,YDATA,IMG,IMG_E)\n",
    "    event.save()"
   ]
  },
  {
   "cell_type": "code",
   "execution_count": 4,
   "id": "07e2a773-08ab-47d1-b811-dd60226468ca",
   "metadata": {},
   "outputs": [
    {
     "data": {
      "image/png": "[encoded data removed]",
      "text/plain": [
       "<Figure size 432x288 with 2 Axes>"
      ]
     },
     "metadata": {
      "needs_background": "light"
     },
     "output_type": "display_data"
    }
   ],
   "source": [
    "# Plotting an example of a 5-by-5 image\n",
    "fig,ax = plt.subplots()\n",
    "im = ax.imshow(event.IMG[1][40])\n",
    "fig.colorbar(im)\n",
    "plt.show()"
   ]
  },
  {
   "cell_type": "markdown",
   "id": "f66fa53c-1fad-48ae-96da-867357d06507",
   "metadata": {},
   "source": [
    "## Least-Squares Fit"
   ]
  },
  {
   "cell_type": "code",
   "execution_count": 5,
   "id": "6e06bd11-1ec3-4197-adda-0c904fa2b262",
   "metadata": {},
   "outputs": [
    {
     "data": {
      "text/plain": [
       "Text(0, 0.5, 'Flux (MJy/sr)')"
      ]
     },
     "execution_count": 5,
     "metadata": {},
     "output_type": "execute_result"
    },
    {
     "data": {
      "image/png": "[encoded data removed]",
      "text/plain": [
       "<Figure size 432x288 with 1 Axes>"
      ]
     },
     "metadata": {
      "needs_background": "light"
     },
     "output_type": "display_data"
    }
   ],
   "source": [
    "# Get raw photometry, error, and binned error\n",
    "PTOT,PTOT_E,E_BIN = event.aperture_photometry()\n",
    "# Flatten in chronological order for plotting purposes\n",
    "time,ptot = event.chrono_flatten(PTOT)\n",
    "# Plot our raw data so that we can make some parameter estimates.\n",
    "plt.plot(time,ptot,'.')\n",
    "plt.xlabel('Time (JD)')\n",
    "plt.ylabel('Flux (MJy/sr)')"
   ]
  },
  {
   "cell_type": "code",
   "execution_count": 14,
   "id": "ebacb837-00cc-447a-b752-04e51952b62b",
   "metadata": {},
   "outputs": [],
   "source": [
    "# Make an initial guess for model parameters, which will be used as starting point for LM fit\n",
    "\n",
    "# Single lens model:\n",
    "#fb,t0,fs,tE = 84.86,7940.195,19.707,14.58\n",
    "#p0 = np.array([fb,t0,fs,tE]) #for single lens: fb, t0, fs, tE\n",
    "\n",
    "# Binary lens model:\n",
    "s     = 0.815       # separation between the two lenses (in Einstein radius of total mass)\n",
    "q     = 0.0099      # mass ratio: Right-lens' mass divided by left-lens' mass\n",
    "rho   = 1e-6        # source radius in Einstein radii of the total mass.\n",
    "alpha = np.pi-2.561 # angle between lens axis and source trajectory (rad) VBBL_alpha = PI-OSU_alpha\n",
    "tE    = 14.58       # einstein radius crossing time\n",
    "t0    = 7940.195    # time of peak magnification\n",
    "u0    = 0.1343      # impact parameter\n",
    "fb    = 76\n",
    "fs    = 21\n",
    "p0 = np.asarray([s, q, rho, alpha, tE, t0, u0, fb, fs])\n",
    "# Estimate some bounds on these parameters. These do not have to be tight constraints.\n",
    "bounds = ([0,0,0,-np.inf,0,7920,-np.inf,0,0],[np.inf,np.inf,np.inf,np.inf,50,7960,np.inf,150,np.inf])"
   ]
  },
  {
   "cell_type": "code",
   "execution_count": 24,
   "id": "9d8d9809-b086-4eac-beb0-5512f99b314e",
   "metadata": {},
   "outputs": [
    {
     "data": {
      "text/plain": [
       "<matplotlib.lines.Line2D at 0x125eb97c0>"
      ]
     },
     "execution_count": 69,
     "metadata": {},
     "output_type": "execute_result"
    },
    {
     "data": {
      "image/png": "[encoded data removed]",
      "text/plain": [
       "<Figure size 576x288 with 1 Axes>"
      ]
     },
     "metadata": {
      "needs_background": "light"
     },
     "output_type": "display_data"
    },
    {
     "data": {
      "image/png": "[encoded data removed]",
      "text/plain": [
       "<Figure size 432x288 with 1 Axes>"
      ]
     },
     "metadata": {
      "needs_background": "light"
     },
     "output_type": "display_data"
    }
   ],
   "source": [
    "# Obtain raw photometry and errors\n",
    "PTOT,PTOT_E,E_BIN = event.aperture_photometry()\n",
    "# Perform LM fit and plot resulting curve\n",
    "p0_single = np.array([fb,t0,fs,tE])\n",
    "popt,perr,bestfit,resi_pre,timeplot,lcoptim = event.modelfit(MODELFUNC,p0,PTOT,makeplots=True,bounds=bounds,method='trf')\n",
    "#popt,perr,bestfit,resi_pre,timeplot,lcoptim = event.modelfit(models.single_lens,p0_single,PTOT,makeplots=True)\n",
    "plt.figure()\n",
    "plt.plot(event.chrono_flatten()[0],resi_pre,'.')\n",
    "plt.axhline(color='C1')"
   ]
  },
  {
   "cell_type": "markdown",
   "id": "81663ea7-284b-4039-8d40-c68546db44da",
   "metadata": {},
   "source": [
    "## Solving PLD Coefficients Analytically"
   ]
  },
  {
   "cell_type": "code",
   "execution_count": 16,
   "id": "d44c8f1d-f454-4587-9e1b-b9c7375eb60f",
   "metadata": {
    "tags": []
   },
   "outputs": [
    {
     "ename": "TypeError",
     "evalue": "binary_lens_all() missing 5 required positional arguments: 'tE', 't0', 'u0', 'fb', and 'fs'",
     "output_type": "error",
     "traceback": [
      "\u001b[0;31m---------------------------------------------------------------------------\u001b[0m",
      "\u001b[0;31mTypeError\u001b[0m                                 Traceback (most recent call last)",
      "Input \u001b[0;32mIn [70]\u001b[0m, in \u001b[0;36m<module>\u001b[0;34m\u001b[0m\n\u001b[1;32m      2\u001b[0m PNORM \u001b[38;5;241m=\u001b[39m event\u001b[38;5;241m.\u001b[39mget_PNORM()\n\u001b[1;32m      3\u001b[0m \u001b[38;5;66;03m# Solve for PLD coefficients analytically\u001b[39;00m\n\u001b[0;32m----> 4\u001b[0m Y, Astro, Ps, A, C, E, X \u001b[38;5;241m=\u001b[39m \u001b[43mPLD\u001b[49m\u001b[38;5;241;43m.\u001b[39;49m\u001b[43manalytic_solution\u001b[49m\u001b[43m(\u001b[49m\u001b[43mevent\u001b[49m\u001b[38;5;241;43m.\u001b[39;49m\u001b[43mTIMES\u001b[49m\u001b[43m,\u001b[49m\u001b[43m \u001b[49m\u001b[43mPTOT\u001b[49m\u001b[43m,\u001b[49m\u001b[43m \u001b[49m\u001b[43mPTOT_E\u001b[49m\u001b[43m,\u001b[49m\u001b[43m \u001b[49m\u001b[43mPNORM\u001b[49m\u001b[43m,\u001b[49m\u001b[43m \u001b[49m\u001b[43mpopt\u001b[49m\u001b[43m,\u001b[49m\u001b[43m \u001b[49m\u001b[43mMODELFUNC\u001b[49m\u001b[43m)\u001b[49m\n\u001b[1;32m      5\u001b[0m \u001b[38;5;66;03m# Get detector model and divide it out to get new best-fit\u001b[39;00m\n\u001b[1;32m      6\u001b[0m FIT, SYS, CORR, RESI \u001b[38;5;241m=\u001b[39m PLD\u001b[38;5;241m.\u001b[39mget_bestfit(A, Ps, X, PTOT, Astro)\n",
      "File \u001b[0;32m~/Spitzer_ulens_tbk/Spitzer_ulens/PLD.py:59\u001b[0m, in \u001b[0;36manalytic_solution\u001b[0;34m(TIMES, PTOT, PTOT_E, PNORM, popt, func)\u001b[0m\n\u001b[1;32m     57\u001b[0m \u001b[38;5;28;01mfor\u001b[39;00m i \u001b[38;5;129;01min\u001b[39;00m \u001b[38;5;28mrange\u001b[39m(n_dit):\n\u001b[1;32m     58\u001b[0m     Y_i \u001b[38;5;241m=\u001b[39m np\u001b[38;5;241m.\u001b[39mreshape(PTOT[i],(n_data,\u001b[38;5;241m1\u001b[39m))\n\u001b[0;32m---> 59\u001b[0m     Astro_i \u001b[38;5;241m=\u001b[39m np\u001b[38;5;241m.\u001b[39mreshape(\u001b[43mfunc\u001b[49m\u001b[43m(\u001b[49m\u001b[43mTIMES\u001b[49m\u001b[43m[\u001b[49m\u001b[43mi\u001b[49m\u001b[43m]\u001b[49m\u001b[43m,\u001b[49m\u001b[38;5;241;43m*\u001b[39;49m\u001b[43mpopt\u001b[49m\u001b[43m)\u001b[49m,(n_data,\u001b[38;5;241m1\u001b[39m))\n\u001b[1;32m     60\u001b[0m     Ps_i \u001b[38;5;241m=\u001b[39m np\u001b[38;5;241m.\u001b[39mreshape(PNORM[i],(n_data,n_reg))\n\u001b[1;32m     61\u001b[0m     A_i \u001b[38;5;241m=\u001b[39m Ps_i\u001b[38;5;241m*\u001b[39mAstro_i\n",
      "\u001b[0;31mTypeError\u001b[0m: binary_lens_all() missing 5 required positional arguments: 'tE', 't0', 'u0', 'fb', and 'fs'"
     ]
    }
   ],
   "source": [
    "# Get fractional flux\n",
    "PNORM = event.get_PNORM()\n",
    "# Solve for PLD coefficients analytically\n",
    "Y, Astro, Ps, A, C, E, X = PLD.analytic_solution(event.TIMES, PTOT, PTOT_E, PNORM, popt, MODELFUNC)\n",
    "# Get detector model and divide it out to get new best-fit\n",
    "FIT, SYS, CORR, RESI = PLD.get_bestfit(A, Ps, X, PTOT, Astro)\n",
    "# Flatten results for plotting\n",
    "time,ptot,ptot_e,corr,resi,fit,sys = event.chrono_flatten(PTOT,PTOT_E,CORR,RESI,FIT,SYS)\n",
    "# Compute RMS error before and after\n",
    "RMS_before, RMS_after = PLD.get_RMS(resi_pre,label='RMS before',visual=True), PLD.get_RMS(resi,label='RMS after',visual=True)\n",
    "# Plot corrected data, corrected model, and residuals\n",
    "plot.plot_analytic_solution(time, ptot, fit, corr, resi, timeplot, lcoptim)"
   ]
  },
  {
   "cell_type": "markdown",
   "id": "0bd6c83f-4564-4ff8-982c-8ac3d9eefdf7",
   "metadata": {},
   "source": [
    "## MCMC fit for PLD Parameters"
   ]
  },
  {
   "cell_type": "code",
   "execution_count": 19,
   "id": "b082d79e-9f22-49ca-afa4-84f77775b84d",
   "metadata": {
    "tags": []
   },
   "outputs": [
    {
     "name": "stdout",
     "output_type": "stream",
     "text": [
      "Running burn-in\n"
     ]
    },
    {
     "name": "stderr",
     "output_type": "stream",
     "text": [
      "100%|█████████████████████████████████████████| 300/300 [05:44<00:00,  1.15s/it]\n"
     ]
    },
    {
     "name": "stdout",
     "output_type": "stream",
     "text": [
      "Mean burn-in acceptance fraction: 0.407\n",
      "MCMC runtime = 5.75 min\n",
      "\n",
      "Running second burn-in\n"
     ]
    },
    {
     "name": "stderr",
     "output_type": "stream",
     "text": [
      "100%|█████████████████████████████████████████| 300/300 [01:27<00:00,  3.44it/s]\n"
     ]
    },
    {
     "name": "stdout",
     "output_type": "stream",
     "text": [
      "Mean burn-in acceptance fraction: 0.437\n",
      "MCMC runtime = 1.45 min\n",
      "\n",
      "Running production\n"
     ]
    },
    {
     "name": "stderr",
     "output_type": "stream",
     "text": [
      "100%|███████████████████████████████████████| 1000/1000 [03:16<00:00,  5.08it/s]\n"
     ]
    },
    {
     "name": "stdout",
     "output_type": "stream",
     "text": [
      "Mean acceptance fraction: 0.396\n",
      "MCMC runtime = 3.28 min\n",
      "\n"
     ]
    }
   ],
   "source": [
    "load_chain_from_file = False\n",
    "\n",
    "if load_chain_from_file:\n",
    "    # Load chain from file\n",
    "    path = os.path.join('data',EVENT_NAME,'mega_MCMC')\n",
    "    chain = np.load(path+'/samplerchain.npy')\n",
    "    lnprob = np.load(path+'/samplerlnpro.npy')\n",
    "    posit = np.load(path+'/samplerposit.npy')\n",
    "    PLD_chain = np.load(path+'/PLD_chain.npy')\n",
    "else:\n",
    "    PLD_coeffs = np.empty(np.size(X))\n",
    "    PLD_chain = mcmc.PLDCoeffsChain(PLD_coeffs)\n",
    "    sampler = mcmc.get_MCMC_sampler(popt,MODELFUNC,event.TIMES,PTOT,PTOT_E,E_BIN,PNORM,PLD_chain,pool=Pool(),bounds=bounds)\n",
    "    pos0 = [popt*(1+1e-5*np.random.randn(sampler.ndim))+1e-5*np.abs(np.random.randn(sampler.ndim)) for i in range(sampler.nwalkers)]\n",
    "    chain,posit,lnprob = mcmc.run_MCMC(sampler,pos0)\n",
    "    PLD_chain = PLD_chain.chain\n",
    "    mcmc.save_chain(EVENT_NAME,chain,posit,lnprob,PLD_chain)"
   ]
  },
  {
   "cell_type": "code",
   "execution_count": 25,
   "id": "905c0865-4024-4bd6-ae90-c91fbfd3e42a",
   "metadata": {},
   "outputs": [
    {
     "name": "stdout",
     "output_type": "stream",
     "text": [
      "[9.14850651e-01 2.65068011e-02 1.08081748e-03 7.24079852e-01\n",
      " 1.27726584e+01 7.93892893e+03 1.51070684e-01 7.60194511e+01\n",
      " 2.46500673e+01]\n",
      "[8.15000000e-01 9.90000000e-03 1.00000000e-06 5.80592654e-01\n",
      " 1.45800000e+01 7.94019500e+03 1.34300000e-01 7.60000000e+01\n",
      " 2.10000000e+01]\n",
      "[9.62383714e-01 7.21233649e-03 1.26123722e-03 7.87890999e-01\n",
      " 1.71153484e+01 7.93909375e+03 1.32351093e-01 7.67456645e+01\n",
      " 1.99429574e+01]\n"
     ]
    }
   ],
   "source": [
    "popt_mcmc = np.mean(posit,axis=0)\n",
    "print(popt_mcmc)\n",
    "print(p0)\n",
    "print(popt)"
   ]
  },
  {
   "cell_type": "code",
   "execution_count": 21,
   "id": "da52cd47-db4c-4ca8-8429-6204f42ed251",
   "metadata": {},
   "outputs": [
    {
     "data": {
      "text/plain": [
       "[<matplotlib.lines.Line2D at 0x1221cd910>]"
      ]
     },
     "execution_count": 21,
     "metadata": {},
     "output_type": "execute_result"
    },
    {
     "data": {
      "image/png": "[encoded data removed]",
      "text/plain": [
       "<Figure size 432x288 with 1 Axes>"
      ]
     },
     "metadata": {
      "needs_background": "light"
     },
     "output_type": "display_data"
    },
    {
     "data": {
      "image/png": "[encoded data removed]",
      "text/plain": [
       "<Figure size 432x288 with 1 Axes>"
      ]
     },
     "metadata": {
      "needs_background": "light"
     },
     "output_type": "display_data"
    }
   ],
   "source": [
    "timeplot = np.linspace(time[0]-20,time[-1]+20,1000)\n",
    "plt.figure(0)\n",
    "plt.plot(time,ptot,'.')\n",
    "plt.plot(timeplot,MODELFUNC(timeplot,*popt_mcmc))\n",
    "resi = ptot-MODELFUNC(time,*popt_mcmc)\n",
    "plt.figure(1)\n",
    "plt.axhline(color='C1')\n",
    "plt.plot(time,resi,'.')"
   ]
  },
  {
   "cell_type": "markdown",
   "id": "3ed0594d-4983-4d48-baa8-f28c9587b40a",
   "metadata": {},
   "source": [
    "# Error Analysis\n",
    "\n",
    "By plotting histograms of the chain positions in parameter space, we can estimate 1 sigma, 2 sigma, etc. errors on our parameters."
   ]
  },
  {
   "cell_type": "code",
   "execution_count": 68,
   "id": "c3131b25-e3ce-4358-8c56-15f8b0e8d1fe",
   "metadata": {},
   "outputs": [
    {
     "name": "stdout",
     "output_type": "stream",
     "text": [
      "(100, 9)\n"
     ]
    },
    {
     "data": {
      "text/plain": [
       "[<matplotlib.lines.Line2D at 0x125e47dc0>]"
      ]
     },
     "execution_count": 68,
     "metadata": {},
     "output_type": "execute_result"
    },
    {
     "data": {
      "image/png": "[encoded data removed]",
      "text/plain": [
       "<Figure size 432x288 with 1 Axes>"
      ]
     },
     "metadata": {
      "needs_background": "light"
     },
     "output_type": "display_data"
    }
   ],
   "source": [
    "print(posit.shape)\n",
    "nbins=10\n",
    "i = 6\n",
    "pmin = posit.min(axis=0)\n",
    "pmax = posit.max(axis=0)\n",
    "bins = np.linspace(pmin,pmax,nbins)\n",
    "aa,bb = np.histogram(posit[:,i],bins[:,i])\n",
    "cents = 0.5*(bb[1:]+bb[:-1])\n",
    "plt.plot(cents,aa,'*')\n",
    "#plt.plot(posit[:,0])"
   ]
  },
  {
   "cell_type": "code",
   "execution_count": 46,
   "id": "02e0ca7e-5ac0-4343-a8e1-f7e74a096359",
   "metadata": {},
   "outputs": [
    {
     "name": "stdout",
     "output_type": "stream",
     "text": [
      "[9.19314521e-01 2.39826711e-02 1.30811686e-03 7.27272107e-01\n",
      " 1.29082161e+01 7.93895149e+03 1.52200628e-01 7.53615818e+01\n",
      " 2.49388507e+01]\n",
      "[9.14106986e-01 2.48379529e-02 6.86572132e-04 7.18410394e-01\n",
      " 1.29538301e+01 7.93895298e+03 1.49208559e-01 7.60803593e+01\n",
      " 2.43776768e+01]\n",
      "[9.24138707e-01 3.18129873e-02 3.10912210e-03 7.33019673e-01\n",
      " 1.33959708e+01 7.93898644e+03 1.56003569e-01 7.81784205e+01\n",
      " 2.57036067e+01]\n"
     ]
    }
   ],
   "source": [
    "print(posit[0])\n",
    "print(posit[1])\n",
    "print(pos_max)"
   ]
  },
  {
   "cell_type": "code",
   "execution_count": null,
   "id": "2e9dcb07-9569-4e6f-9853-be4f89c4bbaa",
   "metadata": {},
   "outputs": [],
   "source": []
  }
 ],
 "metadata": {
  "kernelspec": {
   "display_name": "Python 3 (ipykernel)",
   "language": "python",
   "name": "python3"
  },
  "language_info": {
   "codemirror_mode": {
    "name": "ipython",
    "version": 3
   },
   "file_extension": ".py",
   "mimetype": "text/x-python",
   "name": "python",
   "nbconvert_exporter": "python",
   "pygments_lexer": "ipython3",
   "version": "3.8.9"
  }
 },
 "nbformat": 4,
 "nbformat_minor": 5
}
